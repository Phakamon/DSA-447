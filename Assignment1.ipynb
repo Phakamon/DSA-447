{
 "cells": [
  {
   "cell_type": "code",
   "execution_count": 1,
   "id": "3bf72e3a",
   "metadata": {},
   "outputs": [],
   "source": [
    "from fs.osfs import OSFS\n",
    "import selenium\n",
    "from selenium import webdriver\n",
    "from bs4 import BeautifulSoup\n",
    "import time\n",
    "import requests\n",
    "import urllib.request\n",
    "import sys"
   ]
  },
  {
   "cell_type": "code",
   "execution_count": 2,
   "id": "8f29ffd8",
   "metadata": {},
   "outputs": [],
   "source": [
    "driver = webdriver.Chrome(executable_path ='chromedriver')"
   ]
  },
  {
   "cell_type": "code",
   "execution_count": 3,
   "id": "888b26b2",
   "metadata": {},
   "outputs": [],
   "source": [
    "keywords = ['Pizza','Soup','Spaghetti','Steak']"
   ]
  },
  {
   "cell_type": "code",
   "execution_count": 4,
   "id": "31f4c9a4",
   "metadata": {},
   "outputs": [],
   "source": [
    "for keyword in keywords:\n",
    "    with OSFS('DSA-447_downloads') as myfs:\n",
    "        if (not myfs.exists(keyword)):\n",
    "            myfs.makedir(keyword)"
   ]
  },
  {
   "cell_type": "code",
   "execution_count": 5,
   "id": "86e6d4ff",
   "metadata": {},
   "outputs": [
    {
     "name": "stderr",
     "output_type": "stream",
     "text": [
      "C:\\Users\\User\\Anaconda3\\lib\\site-packages\\ipykernel_launcher.py:7: DeprecationWarning: find_element_by_* commands are deprecated. Please use find_element() instead\n",
      "  import sys\n"
     ]
    }
   ],
   "source": [
    "for keyword in keywords:\n",
    "    site = 'https://google.com/search?q='+keyword+'&tbm=isch'+'&tbs=isz:lt,islt:svga'\n",
    "    driver.get(site)\n",
    "    for _ in range(0,7):\n",
    "        driver.execute_script(\"window.scrollBy(0,document.body.scrollHeight)\")\n",
    "        try:\n",
    "            driver.find_element_by_xpath('//*[@id=\"islmp\"]/div/div/div/div/div[2]/div[2]/input').click() \n",
    "            #click on show more result automatically\n",
    "        except Exception as e:\n",
    "            pass\n",
    "        time.sleep(3)\n",
    "    soup = BeautifulSoup(driver.page_source, 'html.parser')\n",
    "    \n",
    "    img_tags = soup.find_all('img',class_ = 'rg_i')\n",
    "    count = 1\n",
    "    for i in img_tags:\n",
    "        try:\n",
    "            urllib.request.urlretrieve(i['src'],'DSA-447_downloads'+'/'+keyword+'/'+keyword+ str(count)+\".jpg\" )\n",
    "            count += 1\n",
    "        except Exception as e:\n",
    "            pass"
   ]
  },
  {
   "cell_type": "code",
   "execution_count": null,
   "id": "b2ea0143",
   "metadata": {},
   "outputs": [],
   "source": []
  }
 ],
 "metadata": {
  "kernelspec": {
   "display_name": "Python 3",
   "language": "python",
   "name": "python3"
  },
  "language_info": {
   "codemirror_mode": {
    "name": "ipython",
    "version": 3
   },
   "file_extension": ".py",
   "mimetype": "text/x-python",
   "name": "python",
   "nbconvert_exporter": "python",
   "pygments_lexer": "ipython3",
   "version": "3.7.4"
  }
 },
 "nbformat": 4,
 "nbformat_minor": 5
}
