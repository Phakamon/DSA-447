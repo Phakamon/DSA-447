{
 "cells": [
  {
   "cell_type": "code",
   "execution_count": 1,
   "id": "0c0cda5e",
   "metadata": {},
   "outputs": [],
   "source": [
    "from bs4 import BeautifulSoup\n",
    "import requests"
   ]
  },
  {
   "cell_type": "code",
   "execution_count": 2,
   "id": "f0d7af6c",
   "metadata": {},
   "outputs": [],
   "source": [
    "url ='https://scrapingclub.com/exercise/list_basic/'"
   ]
  },
  {
   "cell_type": "code",
   "execution_count": 3,
   "id": "b83b1abe",
   "metadata": {},
   "outputs": [
    {
     "data": {
      "text/plain": [
       "<Response [200]>"
      ]
     },
     "execution_count": 3,
     "metadata": {},
     "output_type": "execute_result"
    }
   ],
   "source": [
    "response = requests.get(url)\n",
    "response"
   ]
  },
  {
   "cell_type": "code",
   "execution_count": 4,
   "id": "0917b8ae",
   "metadata": {
    "collapsed": true,
    "jupyter": {
     "outputs_hidden": true
    }
   },
   "outputs": [
    {
     "data": {
      "text/plain": [
       "<!DOCTYPE html>\n",
       "<html lang=\"en\">\n",
       "<head>\n",
       "<meta charset=\"utf-8\"/>\n",
       "<meta content=\"IE=edge\" http-equiv=\"X-UA-Compatible\"/>\n",
       "<meta content=\"width=device-width, initial-scale=1\" name=\"viewport\"/>\n",
       "<link href=\"/static/img/icon.611132651e39.png\" rel=\"icon\" type=\"image/png\"/>\n",
       "<meta content=\"Not only crawl products but also handle pagination\" name=\"description\"/><title>Recursively Scraping pages | ScrapingClub</title>\n",
       "<!-- Bootstrap core CSS -->\n",
       "<link href=\"/static/bootstrap/css/bootstrap.min.a9766a313743.css\" rel=\"stylesheet\"/>\n",
       "<link href=\"https://cdnjs.cloudflare.com/ajax/libs/font-awesome/4.7.0/css/font-awesome.min.css\" rel=\"stylesheet\"/>\n",
       "<link href=\"/static/css/custom.e6122d0f915e.css\" rel=\"stylesheet\"/>\n",
       "</head>\n",
       "<body>\n",
       "<nav class=\"navbar navbar-expand-lg fixed-top navbar-dark bg-primary\">\n",
       "<div class=\"container\">\n",
       "<a class=\"navbar-brand\" href=\"/\">\n",
       "<img alt=\"ScrapingClub\" class=\"nav-logo\" src=\"/static/img/brand-logo.ad7a4888d334.png\"/>\n",
       "</a>\n",
       "<button aria-controls=\"navbarCollapse\" aria-expanded=\"false\" aria-label=\"Toggle navigation\" class=\"navbar-toggler\" data-target=\"#navbarCollapse\" data-toggle=\"collapse\" type=\"button\">\n",
       "<span class=\"navbar-toggler-icon\"></span>\n",
       "</button>\n",
       "<div class=\"collapse navbar-collapse\" id=\"navbarCollapse\">\n",
       "<ul class=\"navbar-nav mr-auto\">\n",
       "<li class=\"nav-item\">\n",
       "<a class=\"nav-link\" href=\"/\">Home\n",
       "            <span class=\"sr-only\">(current)</span>\n",
       "</a>\n",
       "</li>\n",
       "<li class=\"nav-item\">\n",
       "<a class=\"nav-link\" href=\"/blog/\">Blog</a>\n",
       "</li>\n",
       "<li class=\"nav-item\">\n",
       "<a class=\"nav-link\" href=\"/about/\">About</a>\n",
       "</li>\n",
       "<li class=\"nav-item\">\n",
       "<a class=\"nav-link\" href=\"/contact/\">Contact</a>\n",
       "</li>\n",
       "<li class=\"nav-item\">\n",
       "<a class=\"nav-link\" href=\"https://leanpub.com/ultimateguidetoscrapy/\" target=\"_blank\">eBook</a>\n",
       "</li>\n",
       "<li class=\"nav-item active\">\n",
       "<a class=\"nav-link\" href=\"//eepurl.com/dmPGn9\"><i class=\"fa fa-send\"></i> Subscribe</a>\n",
       "</li>\n",
       "</ul>\n",
       "</div>\n",
       "</div>\n",
       "</nav>\n",
       "<!-- Page Content -->\n",
       "<div class=\"container mt-4\">\n",
       "<div class=\"row\">\n",
       "<div class=\"col-lg-8\">\n",
       "<div class=\"my-4\">\n",
       "<div class=\"alert alert-success\" role=\"alert\">\n",
       "<h4 class=\"alert-heading\">Donation</h4>\n",
       "<p>This project was built to help people and I did not earn money from my work.\n",
       "                But you can still support my work\n",
       "              </p>\n",
       "<ul>\n",
       "<li><a href=\"//buymeacoff.ee/0JqEZkHre\" target=\"_blank\">Buy me a coffee!</a></li>\n",
       "<li><a href=\"https://leanpub.com/ultimateguidetoscrapy/\" target=\"_blank\">Ultimate Guide To Scrapy (eBook)</a></li>\n",
       "</ul>\n",
       "</div>\n",
       "</div>\n",
       "<div class=\"alert alert-info my-4\" role=\"alert\">\n",
       "<p>Try to extract all product detail infomation such as title, description, you should also handle pagination here so in the end you can get about 100+ records.</p>\n",
       "<p>Tips:</p>\n",
       "<ol>\n",
       "<li>You can read this article if you need help. <a href=\"/blog/scrapy-tutorial-10-how-build-real-spider/\">Scrapy Tutorial: How To Build A Real Spider</a></li>\n",
       "</ol>\n",
       "</div>\n",
       "<div class=\"row my-4\">\n",
       "<div class=\"col-lg-4 col-md-6 mb-4\">\n",
       "<div class=\"card\">\n",
       "<a href=\"/exercise/list_basic_detail/90008-E/\"><img alt=\"\" class=\"card-img-top img-fluid\" src=\"/static/img/90008-E.jpg\"/></a>\n",
       "<div class=\"card-body\">\n",
       "<h4 class=\"card-title\">\n",
       "<a href=\"/exercise/list_basic_detail/90008-E/\">Short Dress</a>\n",
       "</h4>\n",
       "<h5>$24.99</h5>\n",
       "</div>\n",
       "</div>\n",
       "</div>\n",
       "<div class=\"col-lg-4 col-md-6 mb-4\">\n",
       "<div class=\"card\">\n",
       "<a href=\"/exercise/list_basic_detail/96436-A/\"><img alt=\"\" class=\"card-img-top img-fluid\" src=\"/static/img/96436-A.jpg\"/></a>\n",
       "<div class=\"card-body\">\n",
       "<h4 class=\"card-title\">\n",
       "<a href=\"/exercise/list_basic_detail/96436-A/\">Patterned Slacks</a>\n",
       "</h4>\n",
       "<h5>$29.99</h5>\n",
       "</div>\n",
       "</div>\n",
       "</div>\n",
       "<div class=\"col-lg-4 col-md-6 mb-4\">\n",
       "<div class=\"card\">\n",
       "<a href=\"/exercise/list_basic_detail/93926-B/\"><img alt=\"\" class=\"card-img-top img-fluid\" src=\"/static/img/93926-B.jpg\"/></a>\n",
       "<div class=\"card-body\">\n",
       "<h4 class=\"card-title\">\n",
       "<a href=\"/exercise/list_basic_detail/93926-B/\">Short Chiffon Dress</a>\n",
       "</h4>\n",
       "<h5>$49.99</h5>\n",
       "</div>\n",
       "</div>\n",
       "</div>\n",
       "<div class=\"col-lg-4 col-md-6 mb-4\">\n",
       "<div class=\"card\">\n",
       "<a href=\"/exercise/list_basic_detail/90882-B/\"><img alt=\"\" class=\"card-img-top img-fluid\" src=\"/static/img/90882-B.jpg\"/></a>\n",
       "<div class=\"card-body\">\n",
       "<h4 class=\"card-title\">\n",
       "<a href=\"/exercise/list_basic_detail/90882-B/\">Off-the-shoulder Dress</a>\n",
       "</h4>\n",
       "<h5>$59.99</h5>\n",
       "</div>\n",
       "</div>\n",
       "</div>\n",
       "<div class=\"col-lg-4 col-md-6 mb-4\">\n",
       "<div class=\"card\">\n",
       "<a href=\"/exercise/list_basic_detail/93756-C/\"><img alt=\"\" class=\"card-img-top img-fluid\" src=\"/static/img/93756-C.jpg\"/></a>\n",
       "<div class=\"card-body\">\n",
       "<h4 class=\"card-title\">\n",
       "<a href=\"/exercise/list_basic_detail/93756-C/\">V-neck Top</a>\n",
       "</h4>\n",
       "<h5>$24.99</h5>\n",
       "</div>\n",
       "</div>\n",
       "</div>\n",
       "<div class=\"col-lg-4 col-md-6 mb-4\">\n",
       "<div class=\"card\">\n",
       "<a href=\"/exercise/list_basic_detail/93926-C/\"><img alt=\"\" class=\"card-img-top img-fluid\" src=\"/static/img/93926-C.jpg\"/></a>\n",
       "<div class=\"card-body\">\n",
       "<h4 class=\"card-title\">\n",
       "<a href=\"/exercise/list_basic_detail/93926-C/\">Short Chiffon Dress</a>\n",
       "</h4>\n",
       "<h5>$49.99</h5>\n",
       "</div>\n",
       "</div>\n",
       "</div>\n",
       "<div class=\"col-lg-4 col-md-6 mb-4\">\n",
       "<div class=\"card\">\n",
       "<a href=\"/exercise/list_basic_detail/93756-B/\"><img alt=\"\" class=\"card-img-top img-fluid\" src=\"/static/img/93756-B.jpg\"/></a>\n",
       "<div class=\"card-body\">\n",
       "<h4 class=\"card-title\">\n",
       "<a href=\"/exercise/list_basic_detail/93756-B/\">V-neck Top</a>\n",
       "</h4>\n",
       "<h5>$24.99</h5>\n",
       "</div>\n",
       "</div>\n",
       "</div>\n",
       "<div class=\"col-lg-4 col-md-6 mb-4\">\n",
       "<div class=\"card\">\n",
       "<a href=\"/exercise/list_basic_detail/93756-D/\"><img alt=\"\" class=\"card-img-top img-fluid\" src=\"/static/img/93756-D.jpg\"/></a>\n",
       "<div class=\"card-body\">\n",
       "<h4 class=\"card-title\">\n",
       "<a href=\"/exercise/list_basic_detail/93756-D/\">V-neck Top</a>\n",
       "</h4>\n",
       "<h5>$24.99</h5>\n",
       "</div>\n",
       "</div>\n",
       "</div>\n",
       "<div class=\"col-lg-4 col-md-6 mb-4\">\n",
       "<div class=\"card\">\n",
       "<a href=\"/exercise/list_basic_detail/96643-A/\"><img alt=\"\" class=\"card-img-top img-fluid\" src=\"/static/img/96643-A.jpg\"/></a>\n",
       "<div class=\"card-body\">\n",
       "<h4 class=\"card-title\">\n",
       "<a href=\"/exercise/list_basic_detail/96643-A/\">Short Lace Dress</a>\n",
       "</h4>\n",
       "<h5>$59.99</h5>\n",
       "</div>\n",
       "</div>\n",
       "</div>\n",
       "</div>\n",
       "<!-- /.row -->\n",
       "<nav aria-label=\"Page navigation example\">\n",
       "<ul class=\"pagination\">\n",
       "<li class=\"page-item active\">\n",
       "<span class=\"page-link\">\n",
       "                    1\n",
       "                    <span class=\"sr-only\">(current)</span>\n",
       "</span>\n",
       "</li>\n",
       "<li class=\"page-item\"><a class=\"page-link\" href=\"?page=2\">2</a></li>\n",
       "<li class=\"page-item\"><a class=\"page-link\" href=\"?page=3\">3</a></li>\n",
       "<li class=\"page-item\"><a class=\"page-link\" href=\"?page=4\">4</a></li>\n",
       "<li class=\"page-item\"><a class=\"page-link\" href=\"?page=5\">5</a></li>\n",
       "<li class=\"page-item\"><a class=\"page-link\" href=\"?page=6\">6</a></li>\n",
       "<li class=\"page-item\"><a class=\"page-link\" href=\"?page=7\">7</a></li>\n",
       "<li class=\"page-item\"><a class=\"page-link\" href=\"?page=2\">Next</a></li>\n",
       "</ul>\n",
       "</nav>\n",
       "</div>\n",
       "<!-- /.col-lg-8 -->\n",
       "<div class=\"col-lg-4\">\n",
       "<div class=\"card card-outline-secondary my-4\">\n",
       "<div class=\"card-header\">\n",
       "       Exercise List \n",
       "    </div>\n",
       "<div class=\"card-body\">\n",
       "<p>\n",
       "<a class=\"\" href=\"/exercise/detail_basic/\">Basic Info Scraping</a>\n",
       "</p>\n",
       "<p>Web scraping using XPath or CSS expression</p>\n",
       "<hr/>\n",
       "<!-- <small class=\"text-muted\">Posted by Anonymous on 3/1/17</small> -->\n",
       "<!-- <a href=\"#\" class=\"btn btn-success\">Leave a Review</a> -->\n",
       "<p>\n",
       "<a class=\"\" href=\"/exercise/detail_json/\">Analyze JSON</a>\n",
       "</p>\n",
       "<p>Load JSON string and extract data</p>\n",
       "<hr/>\n",
       "<!-- <small class=\"text-muted\">Posted by Anonymous on 3/1/17</small> -->\n",
       "<!-- <a href=\"#\" class=\"btn btn-success\">Leave a Review</a> -->\n",
       "<p>\n",
       "<a class=\"\" href=\"/exercise/list_basic/\">Recursively Scraping pages</a>\n",
       "</p>\n",
       "<p>Not only crawl products but also handle pagination</p>\n",
       "<hr/>\n",
       "<!-- <small class=\"text-muted\">Posted by Anonymous on 3/1/17</small> -->\n",
       "<!-- <a href=\"#\" class=\"btn btn-success\">Leave a Review</a> -->\n",
       "<p>\n",
       "<a class=\"\" href=\"/exercise/detail_ajax/\">Mimicking Ajax requests</a>\n",
       "</p>\n",
       "<p>Inspect Ajax requests and mimic them</p>\n",
       "<hr/>\n",
       "<!-- <small class=\"text-muted\">Posted by Anonymous on 3/1/17</small> -->\n",
       "<!-- <a href=\"#\" class=\"btn btn-success\">Leave a Review</a> -->\n",
       "<p>\n",
       "<a class=\"\" href=\"/exercise/detail_header/\">Inspect HTTP request</a>\n",
       "</p>\n",
       "<p>Learn to inspect the fields of HTTP request</p>\n",
       "<hr/>\n",
       "<!-- <small class=\"text-muted\">Posted by Anonymous on 3/1/17</small> -->\n",
       "<!-- <a href=\"#\" class=\"btn btn-success\">Leave a Review</a> -->\n",
       "<p>\n",
       "<a class=\"\" href=\"/exercise/list_infinite_scroll/\">Scraping Infinite Scrolling Pages (Ajax)</a>\n",
       "</p>\n",
       "<p>Learn to scrape infinite scrolling pages</p>\n",
       "<hr/>\n",
       "<!-- <small class=\"text-muted\">Posted by Anonymous on 3/1/17</small> -->\n",
       "<!-- <a href=\"#\" class=\"btn btn-success\">Leave a Review</a> -->\n",
       "<p>\n",
       "<a class=\"\" href=\"/exercise/detail_cookie/\">Find gold in cookie</a>\n",
       "</p>\n",
       "<p>Make your spider can work with the cookie</p>\n",
       "<hr/>\n",
       "<!-- <small class=\"text-muted\">Posted by Anonymous on 3/1/17</small> -->\n",
       "<!-- <a href=\"#\" class=\"btn btn-success\">Leave a Review</a> -->\n",
       "<p>\n",
       "<a class=\"\" href=\"/exercise/basic_login/\">Login form</a>\n",
       "</p>\n",
       "<p>Scrape data behind login form</p>\n",
       "<hr/>\n",
       "<!-- <small class=\"text-muted\">Posted by Anonymous on 3/1/17</small> -->\n",
       "<!-- <a href=\"#\" class=\"btn btn-success\">Leave a Review</a> -->\n",
       "<p>\n",
       "<a class=\"\" href=\"/exercise/basic_captcha/\">Solve Captcha</a>\n",
       "</p>\n",
       "<p>Learn to scrape data behind a captcha</p>\n",
       "<hr/>\n",
       "<!-- <small class=\"text-muted\">Posted by Anonymous on 3/1/17</small> -->\n",
       "<!-- <a href=\"#\" class=\"btn btn-success\">Leave a Review</a> -->\n",
       "<p>\n",
       "<a class=\"\" href=\"/exercise/detail_sign/\">Decode minified javascript</a>\n",
       "</p>\n",
       "<p>Learn how to analyze minimized or compressed javascript</p>\n",
       "<hr/>\n",
       "<!-- <small class=\"text-muted\">Posted by Anonymous on 3/1/17</small> -->\n",
       "<!-- <a href=\"#\" class=\"btn btn-success\">Leave a Review</a> -->\n",
       "</div>\n",
       "</div>\n",
       "</div>\n",
       "<!-- /.col-lg-4 -->\n",
       "</div>\n",
       "</div>\n",
       "<!-- /.container -->\n",
       "<!-- Footer -->\n",
       "<footer class=\"py-4 bg-primary\">\n",
       "<div class=\"container\">\n",
       "<p class=\"m-0 text-center text-white\">Made with <span class=\"sh-red\">❤</span> by <a href=\"https://blog.michaelyin.info/\">MichaelYin</a></p>\n",
       "</div>\n",
       "<!-- /.container -->\n",
       "</footer>\n",
       "<!-- Global site tag (gtag.js) - Google Analytics -->\n",
       "<script async=\"\" src=\"https://www.googletagmanager.com/gtag/js?id=UA-39890589-8\"></script>\n",
       "<script>\n",
       "      window.dataLayer = window.dataLayer || [];\n",
       "      function gtag(){dataLayer.push(arguments);}\n",
       "      gtag('js', new Date());\n",
       "\n",
       "      gtag('config', 'UA-39890589-8');\n",
       "    </script>\n",
       "<!-- Bootstrap core JavaScript -->\n",
       "<script src=\"/static/jquery/jquery.min.a09e13ee94d5.js\"></script>\n",
       "<script src=\"/static/bootstrap/js/bootstrap.min.14d449eb8876.js\"></script>\n",
       "</body>\n",
       "</html>"
      ]
     },
     "execution_count": 4,
     "metadata": {},
     "output_type": "execute_result"
    }
   ],
   "source": [
    "soup = BeautifulSoup(response.text, 'lxml')\n",
    "soup"
   ]
  },
  {
   "cell_type": "code",
   "execution_count": 5,
   "id": "d4bbca2f",
   "metadata": {},
   "outputs": [
    {
     "data": {
      "text/plain": [
       "[<h4 class=\"card-title\">\n",
       " <a href=\"/exercise/list_basic_detail/90008-E/\">Short Dress</a>\n",
       " </h4>,\n",
       " <h4 class=\"card-title\">\n",
       " <a href=\"/exercise/list_basic_detail/96436-A/\">Patterned Slacks</a>\n",
       " </h4>,\n",
       " <h4 class=\"card-title\">\n",
       " <a href=\"/exercise/list_basic_detail/93926-B/\">Short Chiffon Dress</a>\n",
       " </h4>,\n",
       " <h4 class=\"card-title\">\n",
       " <a href=\"/exercise/list_basic_detail/90882-B/\">Off-the-shoulder Dress</a>\n",
       " </h4>,\n",
       " <h4 class=\"card-title\">\n",
       " <a href=\"/exercise/list_basic_detail/93756-C/\">V-neck Top</a>\n",
       " </h4>,\n",
       " <h4 class=\"card-title\">\n",
       " <a href=\"/exercise/list_basic_detail/93926-C/\">Short Chiffon Dress</a>\n",
       " </h4>,\n",
       " <h4 class=\"card-title\">\n",
       " <a href=\"/exercise/list_basic_detail/93756-B/\">V-neck Top</a>\n",
       " </h4>,\n",
       " <h4 class=\"card-title\">\n",
       " <a href=\"/exercise/list_basic_detail/93756-D/\">V-neck Top</a>\n",
       " </h4>,\n",
       " <h4 class=\"card-title\">\n",
       " <a href=\"/exercise/list_basic_detail/96643-A/\">Short Lace Dress</a>\n",
       " </h4>]"
      ]
     },
     "execution_count": 5,
     "metadata": {},
     "output_type": "execute_result"
    }
   ],
   "source": [
    "items = soup.find_all('h4', class_='card-title')\n",
    "items"
   ]
  },
  {
   "cell_type": "code",
   "execution_count": 6,
   "id": "f8f76ebd",
   "metadata": {},
   "outputs": [
    {
     "name": "stdout",
     "output_type": "stream",
     "text": [
      "\n",
      "Short Dress\n",
      "\n",
      "\n",
      "Patterned Slacks\n",
      "\n",
      "\n",
      "Short Chiffon Dress\n",
      "\n",
      "\n",
      "Off-the-shoulder Dress\n",
      "\n",
      "\n",
      "V-neck Top\n",
      "\n",
      "\n",
      "Short Chiffon Dress\n",
      "\n",
      "\n",
      "V-neck Top\n",
      "\n",
      "\n",
      "V-neck Top\n",
      "\n",
      "\n",
      "Short Lace Dress\n",
      "\n"
     ]
    }
   ],
   "source": [
    "for item in items:\n",
    "    print(item.text)"
   ]
  },
  {
   "cell_type": "code",
   "execution_count": 7,
   "id": "8d720d76",
   "metadata": {},
   "outputs": [
    {
     "name": "stdout",
     "output_type": "stream",
     "text": [
      "Short Dress\n",
      "Patterned Slacks\n",
      "Short Chiffon Dress\n",
      "Off-the-shoulder Dress\n",
      "V-neck Top\n",
      "Short Chiffon Dress\n",
      "V-neck Top\n",
      "V-neck Top\n",
      "Short Lace Dress\n"
     ]
    }
   ],
   "source": [
    "for item in items:\n",
    "    print(item.text.strip('\\n'))"
   ]
  },
  {
   "cell_type": "code",
   "execution_count": 9,
   "id": "52011346",
   "metadata": {},
   "outputs": [
    {
     "data": {
      "text/plain": [
       "[<h5>$24.99</h5>,\n",
       " <h5>$29.99</h5>,\n",
       " <h5>$49.99</h5>,\n",
       " <h5>$59.99</h5>,\n",
       " <h5>$24.99</h5>,\n",
       " <h5>$49.99</h5>,\n",
       " <h5>$24.99</h5>,\n",
       " <h5>$24.99</h5>,\n",
       " <h5>$59.99</h5>]"
      ]
     },
     "execution_count": 9,
     "metadata": {},
     "output_type": "execute_result"
    }
   ],
   "source": [
    "prices = soup.find_all('h5')\n",
    "prices"
   ]
  },
  {
   "cell_type": "code",
   "execution_count": 10,
   "id": "dba5e432",
   "metadata": {},
   "outputs": [
    {
     "name": "stdout",
     "output_type": "stream",
     "text": [
      "$24.99\n",
      "$29.99\n",
      "$49.99\n",
      "$59.99\n",
      "$24.99\n",
      "$49.99\n",
      "$24.99\n",
      "$24.99\n",
      "$59.99\n"
     ]
    }
   ],
   "source": [
    "for price in prices:\n",
    "    print(price.text)"
   ]
  },
  {
   "cell_type": "code",
   "execution_count": 11,
   "id": "76b87fd5",
   "metadata": {},
   "outputs": [
    {
     "data": {
      "text/plain": [
       "[<a class=\"page-link\" href=\"?page=2\">2</a>,\n",
       " <a class=\"page-link\" href=\"?page=3\">3</a>,\n",
       " <a class=\"page-link\" href=\"?page=4\">4</a>,\n",
       " <a class=\"page-link\" href=\"?page=5\">5</a>,\n",
       " <a class=\"page-link\" href=\"?page=6\">6</a>,\n",
       " <a class=\"page-link\" href=\"?page=7\">7</a>,\n",
       " <a class=\"page-link\" href=\"?page=2\">Next</a>]"
      ]
     },
     "execution_count": 11,
     "metadata": {},
     "output_type": "execute_result"
    }
   ],
   "source": [
    "pages = soup.find_all('a', class_='page-link')\n",
    "pages"
   ]
  },
  {
   "cell_type": "code",
   "execution_count": 12,
   "id": "ed494e46",
   "metadata": {},
   "outputs": [
    {
     "name": "stdout",
     "output_type": "stream",
     "text": [
      "2\n",
      "3\n",
      "4\n",
      "5\n",
      "6\n",
      "7\n",
      "Next\n"
     ]
    }
   ],
   "source": [
    "for page in pages:\n",
    "    print(page.text)"
   ]
  },
  {
   "cell_type": "code",
   "execution_count": 13,
   "id": "68a7b3d7",
   "metadata": {},
   "outputs": [
    {
     "name": "stdout",
     "output_type": "stream",
     "text": [
      "2\n",
      "3\n",
      "4\n",
      "5\n",
      "6\n",
      "7\n"
     ]
    }
   ],
   "source": [
    "for page in pages:\n",
    "    if page.text.isdigit():\n",
    "        print(page.text)"
   ]
  },
  {
   "cell_type": "code",
   "execution_count": 14,
   "id": "20af4cb2",
   "metadata": {},
   "outputs": [
    {
     "data": {
      "text/plain": [
       "['?page=2', '?page=3', '?page=4', '?page=5', '?page=6', '?page=7']"
      ]
     },
     "execution_count": 14,
     "metadata": {},
     "output_type": "execute_result"
    }
   ],
   "source": [
    "urls = []\n",
    "for page in pages:\n",
    "    if page.text.isdigit():\n",
    "        link = page.get('href')\n",
    "        urls.append(link)\n",
    "urls"
   ]
  },
  {
   "cell_type": "code",
   "execution_count": 16,
   "id": "931b1e53",
   "metadata": {},
   "outputs": [
    {
     "name": "stdout",
     "output_type": "stream",
     "text": [
      "https://scrapingclub.com/exercise/list_basic/?page=2\n",
      "https://scrapingclub.com/exercise/list_basic/?page=3\n",
      "https://scrapingclub.com/exercise/list_basic/?page=4\n",
      "https://scrapingclub.com/exercise/list_basic/?page=5\n",
      "https://scrapingclub.com/exercise/list_basic/?page=6\n",
      "https://scrapingclub.com/exercise/list_basic/?page=7\n"
     ]
    }
   ],
   "source": [
    "url = 'https://scrapingclub.com/exercise/list_basic/'\n",
    "for i in urls:\n",
    "    print(url+i)"
   ]
  },
  {
   "cell_type": "code",
   "execution_count": null,
   "id": "e33270b6",
   "metadata": {},
   "outputs": [],
   "source": []
  }
 ],
 "metadata": {
  "kernelspec": {
   "display_name": "Python 3",
   "language": "python",
   "name": "python3"
  },
  "language_info": {
   "codemirror_mode": {
    "name": "ipython",
    "version": 3
   },
   "file_extension": ".py",
   "mimetype": "text/x-python",
   "name": "python",
   "nbconvert_exporter": "python",
   "pygments_lexer": "ipython3",
   "version": "3.7.4"
  }
 },
 "nbformat": 4,
 "nbformat_minor": 5
}
