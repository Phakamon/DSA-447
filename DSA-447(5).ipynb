{
 "cells": [
  {
   "cell_type": "code",
   "execution_count": 1,
   "id": "a8f3f565",
   "metadata": {},
   "outputs": [
    {
     "name": "stdout",
     "output_type": "stream",
     "text": [
      "Requirement already satisfied: fs in c:\\users\\user\\anaconda3\\lib\\site-packages (2.4.14)\n",
      "Requirement already satisfied: appdirs~=1.4.3 in c:\\users\\user\\anaconda3\\lib\\site-packages (from fs) (1.4.4)\n",
      "Requirement already satisfied: setuptools in c:\\users\\user\\anaconda3\\lib\\site-packages (from fs) (57.4.0)\n",
      "Requirement already satisfied: six~=1.10 in c:\\users\\user\\anaconda3\\lib\\site-packages (from fs) (1.16.0)\n",
      "Requirement already satisfied: pytz in c:\\users\\user\\anaconda3\\lib\\site-packages (from fs) (2021.1)\n"
     ]
    },
    {
     "name": "stderr",
     "output_type": "stream",
     "text": [
      "WARNING: Ignoring invalid distribution -umpy (c:\\users\\user\\anaconda3\\lib\\site-packages)\n",
      "WARNING: Ignoring invalid distribution -umpy (c:\\users\\user\\anaconda3\\lib\\site-packages)\n",
      "WARNING: Ignoring invalid distribution -umpy (c:\\users\\user\\anaconda3\\lib\\site-packages)\n",
      "WARNING: Ignoring invalid distribution -umpy (c:\\users\\user\\anaconda3\\lib\\site-packages)\n",
      "WARNING: Ignoring invalid distribution -umpy (c:\\users\\user\\anaconda3\\lib\\site-packages)\n",
      "WARNING: Ignoring invalid distribution -umpy (c:\\users\\user\\anaconda3\\lib\\site-packages)\n"
     ]
    }
   ],
   "source": [
    "!pip install fs"
   ]
  },
  {
   "cell_type": "code",
   "execution_count": 2,
   "id": "47710fbf",
   "metadata": {},
   "outputs": [],
   "source": [
    "from fs.osfs import OSFS"
   ]
  },
  {
   "cell_type": "code",
   "execution_count": 4,
   "id": "43426752",
   "metadata": {},
   "outputs": [],
   "source": [
    "with OSFS('.') as myfs:\n",
    "    myfs.makedir('new_dir')"
   ]
  },
  {
   "cell_type": "code",
   "execution_count": 6,
   "id": "5778cdd8",
   "metadata": {},
   "outputs": [],
   "source": [
    "with OSFS('./DSA-447 downloads') as myfs:\n",
    "    if(not myfs.exists('new_folder')):\n",
    "        myfs.makedir('new_folder')"
   ]
  },
  {
   "cell_type": "code",
   "execution_count": 9,
   "id": "c7dc0aa1",
   "metadata": {},
   "outputs": [],
   "source": [
    "keywords = ['people','train','pen','chair']\n",
    "for keyword in keywords:\n",
    "    with OSFS('./DSA-447 downloads') as myfs:\n",
    "        if(not myfs.exists(keyword)):\n",
    "            myfs.makedir(keyword)"
   ]
  },
  {
   "cell_type": "code",
   "execution_count": null,
   "id": "36869c57",
   "metadata": {},
   "outputs": [],
   "source": []
  }
 ],
 "metadata": {
  "kernelspec": {
   "display_name": "Python 3",
   "language": "python",
   "name": "python3"
  },
  "language_info": {
   "codemirror_mode": {
    "name": "ipython",
    "version": 3
   },
   "file_extension": ".py",
   "mimetype": "text/x-python",
   "name": "python",
   "nbconvert_exporter": "python",
   "pygments_lexer": "ipython3",
   "version": "3.7.4"
  }
 },
 "nbformat": 4,
 "nbformat_minor": 5
}
